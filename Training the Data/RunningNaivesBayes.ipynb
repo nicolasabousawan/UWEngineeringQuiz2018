{
 "cells": [
  {
   "cell_type": "code",
   "execution_count": 2,
   "metadata": {
    "scrolled": false
   },
   "outputs": [
    {
     "name": "stderr",
     "output_type": "stream",
     "text": [
      "C:\\Users\\nicol\\Downloads\\engineering-quiz-master\\HardCode Project\\Training the Data\\NaiveBayesModel.py:23: FutureWarning: reshape is deprecated and will raise in a subsequent release. Please use .values.reshape(...) instead\n",
      "  CV =  dataset.program.reshape((len(dataset.program), 1))\n",
      "C:\\Users\\nicol\\Downloads\\engineering-quiz-master\\HardCode Project\\Training the Data\\NaiveBayesModel.py:46: FutureWarning: reshape is deprecated and will raise in a subsequent release. Please use .values.reshape(...) instead\n",
      "  CV2 = dataset.program.reshape((len(dataset.program), 1))\n"
     ]
    },
    {
     "name": "stdout",
     "output_type": "stream",
     "text": [
      "[0, 0, 0, 0, 0, 0, 0, 0, 0, 1, 0, 1, 0] matrix\n",
      "The confusion matrix:\n",
      " [[ 28   3   1   0   0   0   0   3   2   6   4   5   1]\n",
      " [  4  32   2   0   1   2   0   2   8   0   5   0   0]\n",
      " [  0   0  41   1   0   1   0   1   3   0   1   0   1]\n",
      " [  0   0   0   0   0   0   0   4   0   9   0  24   2]\n",
      " [  0   0   1   2   2   2   0   5   3   9   1   6   1]\n",
      " [  1   0   4   1   0  13   0   0   0   0   0   1   0]\n",
      " [  0   0   8   0   0   0   0   0   0   0   0   0   0]\n",
      " [  3   9   1   1   0   0   0  53   5   2   2  17   6]\n",
      " [  2   4   3   0   0   3   0   0  54  13   2   1   0]\n",
      " [  2   0   0   1   3   1   0   4  16  99   2  23   0]\n",
      " [  8   5   1   1   1   0   0   1   4   2  34   2   0]\n",
      " [  1   0   0   0   0   0   0   5   0   9   1 113   4]\n",
      " [  2   1   2   0   0   2   0   5   1   6   0  13  13]]\n",
      "by prog [53, 56, 49, 39, 32, 20, 8, 99, 82, 151, 59, 133, 45]\n",
      "Accuracy of the model: with 1 class only 0.583535108959\n",
      "class count [  53.   56.   49.   39.   32.   20.    8.   99.   82.  151.   59.  133.\n",
      "   45.]\n",
      "MSE of every fold in 5 fold cross validation: 1 class [ 0.53614458  0.45454545  0.51515152  0.56363636  0.57575758]\n",
      "Mean of the 5 fold cross-validation: 1 class 0.53\n",
      "Accuracy of the model: with top 2 probability classes 0.7663438256658596\n",
      "[0, 0, 0, 0, 0, 0, 0, 0, 0, 0, 0, 0, 1]\n",
      "[0, 0, 0, 0, 0, 0, 0, 0, 0, 1, 0, 0, 1] matrix\n",
      "[1, 0, 0, 0, 0, 0, 0, 0, 0, 0, 0, 0, 0]\n",
      "[1, 1, 0, 0, 0, 0, 0, 0, 0, 0, 0, 0, 0] matrix\n",
      "[0, 0, 0, 0, 0, 0, 0, 0, 0, 0, 0, 1, 0]\n",
      "[1, 0, 0, 0, 0, 0, 0, 0, 0, 0, 0, 1, 0] matrix\n",
      "[0, 0, 0, 0, 0, 0, 0, 0, 0, 0, 0, 1, 0]\n",
      "[0, 0, 0, 0, 0, 0, 0, 0, 0, 1, 0, 1, 0] matrix\n",
      "[0, 0, 0, 0, 0, 0, 0, 0, 0, 0, 1, 0, 0]\n",
      "[1, 0, 0, 0, 0, 0, 0, 0, 0, 0, 1, 0, 0] matrix\n",
      "array of stratified [0.6823529411764706, 0.7083333333333334, 0.7048192771084337, 0.7852760736196319, 0.7044025157232704]\n",
      "the average of 5-fold is with custom NB 2 classes 0.7170368281922279\n",
      "[48, 55, 65, 8, 7, 18, 0, 85, 96, 165, 52, 203, 24] 1 class and the programs recommended by this strategy\n",
      "[101, 119, 84, 162, 36, 61, 24, 147, 194, 255, 109, 271, 89] 2 class and the programs recommended by this strategy\n",
      "correct matrix [42, 42, 43, 25, 8, 16, 7, 66, 68, 122, 45, 125, 24]\n",
      "number of actual [53, 56, 49, 39, 32, 20, 8, 99, 82, 151, 59, 133, 45]\n"
     ]
    },
    {
     "ename": "NameError",
     "evalue": "name 'ls' is not defined",
     "output_type": "error",
     "traceback": [
      "\u001b[1;31m---------------------------------------------------------------------------\u001b[0m",
      "\u001b[1;31mNameError\u001b[0m                                 Traceback (most recent call last)",
      "\u001b[1;32m<ipython-input-2-0ccfc3609cbb>\u001b[0m in \u001b[0;36m<module>\u001b[1;34m()\u001b[0m\n\u001b[0;32m      1\u001b[0m \u001b[1;32mimport\u001b[0m \u001b[0mnumpy\u001b[0m \u001b[1;32mas\u001b[0m \u001b[0mnp\u001b[0m\u001b[1;33m\u001b[0m\u001b[0m\n\u001b[1;32m----> 2\u001b[1;33m \u001b[1;32mfrom\u001b[0m \u001b[0mNaiveBayesModel\u001b[0m \u001b[1;32mimport\u001b[0m \u001b[0mMB\u001b[0m\u001b[1;33m\u001b[0m\u001b[0m\n\u001b[0m\u001b[0;32m      3\u001b[0m \u001b[1;33m\u001b[0m\u001b[0m\n\u001b[0;32m      4\u001b[0m \u001b[0mdata\u001b[0m\u001b[1;33m=\u001b[0m\u001b[0mnp\u001b[0m\u001b[1;33m.\u001b[0m\u001b[0marray\u001b[0m\u001b[1;33m(\u001b[0m\u001b[1;33m[\u001b[0m\u001b[1;36m0\u001b[0m\u001b[1;33m,\u001b[0m\u001b[1;36m0\u001b[0m\u001b[1;33m,\u001b[0m\u001b[1;36m0\u001b[0m\u001b[1;33m,\u001b[0m\u001b[1;36m0\u001b[0m\u001b[1;33m,\u001b[0m\u001b[1;36m0\u001b[0m\u001b[1;33m,\u001b[0m\u001b[1;36m0\u001b[0m\u001b[1;33m,\u001b[0m\u001b[1;36m0\u001b[0m\u001b[1;33m,\u001b[0m\u001b[1;36m0\u001b[0m\u001b[1;33m,\u001b[0m\u001b[1;36m0\u001b[0m\u001b[1;33m,\u001b[0m\u001b[1;36m0\u001b[0m\u001b[1;33m,\u001b[0m\u001b[1;36m0\u001b[0m\u001b[1;33m,\u001b[0m\u001b[1;36m0\u001b[0m\u001b[1;33m,\u001b[0m\u001b[1;36m0\u001b[0m\u001b[1;33m,\u001b[0m\u001b[1;36m0\u001b[0m\u001b[1;33m,\u001b[0m\u001b[1;36m0\u001b[0m\u001b[1;33m,\u001b[0m\u001b[1;36m0\u001b[0m\u001b[1;33m,\u001b[0m\u001b[1;36m0\u001b[0m\u001b[1;33m,\u001b[0m\u001b[1;36m0\u001b[0m\u001b[1;33m,\u001b[0m\u001b[1;36m0\u001b[0m\u001b[1;33m,\u001b[0m\u001b[1;36m0\u001b[0m\u001b[1;33m,\u001b[0m\u001b[1;36m0\u001b[0m\u001b[1;33m,\u001b[0m\u001b[1;36m0\u001b[0m\u001b[1;33m,\u001b[0m\u001b[1;36m0\u001b[0m\u001b[1;33m,\u001b[0m\u001b[1;36m0\u001b[0m\u001b[1;33m,\u001b[0m\u001b[1;36m0\u001b[0m\u001b[1;33m,\u001b[0m\u001b[1;36m0\u001b[0m\u001b[1;33m,\u001b[0m\u001b[1;36m0\u001b[0m\u001b[1;33m,\u001b[0m\u001b[1;36m0\u001b[0m\u001b[1;33m,\u001b[0m\u001b[1;36m0\u001b[0m\u001b[1;33m,\u001b[0m\u001b[1;36m0\u001b[0m\u001b[1;33m,\u001b[0m\u001b[1;36m0\u001b[0m\u001b[1;33m,\u001b[0m\u001b[1;36m0\u001b[0m\u001b[1;33m]\u001b[0m\u001b[1;33m)\u001b[0m\u001b[1;33m.\u001b[0m\u001b[0mreshape\u001b[0m\u001b[1;33m(\u001b[0m\u001b[1;36m1\u001b[0m\u001b[1;33m,\u001b[0m\u001b[1;33m-\u001b[0m\u001b[1;36m1\u001b[0m\u001b[1;33m)\u001b[0m\u001b[1;33m\u001b[0m\u001b[0m\n\u001b[0;32m      5\u001b[0m \u001b[1;33m\u001b[0m\u001b[0m\n",
      "\u001b[1;32m~\\Downloads\\engineering-quiz-master\\HardCode Project\\Training the Data\\NaiveBayesModel.py\u001b[0m in \u001b[0;36m<module>\u001b[1;34m()\u001b[0m\n\u001b[0;32m    226\u001b[0m \u001b[1;33m\u001b[0m\u001b[0m\n\u001b[0;32m    227\u001b[0m \u001b[1;33m\u001b[0m\u001b[0m\n\u001b[1;32m--> 228\u001b[1;33m \u001b[0mls\u001b[0m\u001b[1;33m\u001b[0m\u001b[0m\n\u001b[0m\u001b[0;32m    229\u001b[0m \u001b[1;33m\u001b[0m\u001b[0m\n",
      "\u001b[1;31mNameError\u001b[0m: name 'ls' is not defined"
     ]
    }
   ],
   "source": [
    "import numpy as np\n",
    "from NaiveBayesModel import MB\n",
    "\n",
    "data=np.array([0,0,0,0,0,0,0,0,0,0,0,0,0,0,0,0,0,0,0,0,0,0,0,0,0,0,0,0,0,0,0,0]).reshape(1,-1)\n",
    "\n",
    "field_interest = input(\"What field interests you the most?\" \"\\n 1. Finance\" \"\\n 2. Manufacturing\" \n",
    "                       \"\\n 3. Software Development\" \"\\n 4. Research\" \" \\n 5. Construction \\n\")\n",
    "team_responsible = input(\"I would like to have been part of the team that was responsible for:\\n\" \"1. The Automobile \\n 2. The Internet \\n 3. The CN Tower \\n 4. Solar Panels \\n 5. The Robot \\n 6. Penicillin \\n\")\n",
    "start_work= input( \"When you start work, ideally you would want to... \\n 1. Work for a large corporation \\n 2. Work for a small company \\n 3. Work in a start up \\n\")\n",
    "design_something = input('I would rather design something that... \\n 1. I can see it function and prove it works, but can\\'t necessary touch \\n 2. I can see function and tangibly touch the parts\\n')\n",
    "work_partof = input(\"I would rather work as part of a... \\n 1. Focused team \\n 2. Multidisciplinary team \\n\")\n",
    "on_project = input(\"When working on a project would you rather \\n 1. Know all the requirements for the project at the beginning \\n 2. Continuously change and update requirements as you go \\n\")\n",
    "care_most = input(\"What cause do you care about the most? \\n 1. Health \\n 2. Environment  \\n 3. Human Rights \\n 4. Bringing technology to developing countries \\n\")\n",
    "eavesdrop = input(\"\"\"You are most likely to eavesdrop in a conversation regarding \\n 1. A groundbreaking metal that will create stronger cars, planes and spaceships for a cheaper cost \n",
    "2. A new way to deal with movement in the Earth’s surface to protect buildings from earthquakes \n",
    "3. A microchip that is smaller than usual but twice as powerful as before \n",
    "4. A factory that is able to 100% rely on robotics while producing no defected products\\n\"\"\")\n",
    "working_with = input(\"\"\"In an ideal setting, you are working with: \\n 1. People \\n 2. Computers \\n 3. Business Processes \\n 4. Machinery \\n\"\"\")\n",
    "\n",
    "data[0][int(field_interest)-1] = 1\n",
    "data[0][5]=1\n",
    "data[0][int(team_responsible)-1 + 5] = 1\n",
    "data[0][int(start_work)-1+5+6] = 1\n",
    "data[0][int(design_something)-1+5+6+3] = 1\n",
    "data[0][int(work_partof)-1+5+6+3+2] = 1\n",
    "data[0][int(on_project)-1+5+6+3+2+2] = 1\n",
    "data[0][int(care_most)-1+5+6+3+2+2+2] = 1\n",
    "data[0][int(eavesdrop)-1+5+6+3+2+2+2+4] = 1\n",
    "data[0][int(working_with)-1+5+6+3+2+2+2+4+4] = 1\n",
    "\n",
    "#print(MB.predict(data))\n",
    "\n",
    "print(MB.predict(data))\n",
    "probabilities = MB.predict_proba(data)\n",
    "programs = [\"Biomedical Engineering\", \"Chemical Engineering\", \"Civil Engineering\", \"Computer Engineering\" ,\" Electrical Engineering\", \"Environmental Engineering\", \"Geological Engineering\", \"Management Engineering\", \"Mechanical Engineering\", \"Mechatronics Engineering\", \"Nanotechnology Engineering\" ,\"Software Engineering\", \"Systems Design Engineering\"]\n",
    "\n",
    "def Max(array):\n",
    "    max = 0\n",
    "    answer=0\n",
    "    for values in range(12):\n",
    "        if max < array[0][values]:\n",
    "            max = array[0][values]\n",
    "            answer = values\n",
    "    array[0][answer] = 0\n",
    "########################################\n",
    "    max =0\n",
    "    for values in range(12):\n",
    "        if max < array[0][values]:\n",
    "            max= array[0][values]\n",
    "            answer1 = values\n",
    "    array[0][answer1] = 0\n",
    "    return (answer, answer1)\n",
    "\n",
    "answer, answer1 = Max(probabilities)\n",
    "\n",
    "print(programs[answer], programs[answer1])"
   ]
  },
  {
   "cell_type": "code",
   "execution_count": null,
   "metadata": {
    "collapsed": true
   },
   "outputs": [],
   "source": []
  }
 ],
 "metadata": {
  "kernelspec": {
   "display_name": "Python 3",
   "language": "python",
   "name": "python3"
  },
  "language_info": {
   "codemirror_mode": {
    "name": "ipython",
    "version": 3
   },
   "file_extension": ".py",
   "mimetype": "text/x-python",
   "name": "python",
   "nbconvert_exporter": "python",
   "pygments_lexer": "ipython3",
   "version": "3.6.3"
  }
 },
 "nbformat": 4,
 "nbformat_minor": 2
}
